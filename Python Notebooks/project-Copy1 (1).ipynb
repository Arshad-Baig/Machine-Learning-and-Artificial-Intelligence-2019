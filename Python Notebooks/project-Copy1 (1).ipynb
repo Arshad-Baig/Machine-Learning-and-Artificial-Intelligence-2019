{
 "cells": [
  {
   "cell_type": "markdown",
   "metadata": {},
   "source": [
    "## Machine Learning And Data Science - PROJECT WORK\n",
    "\n",
    "## TEAM 1\n",
    "\n",
    "### Team Members:\n",
    "* Arshad\n",
    "* Karthik\n",
    "* Vishal"
   ]
  },
  {
   "cell_type": "markdown",
   "metadata": {},
   "source": [
    "<u><b><h1>Importing Libraries</u></b></h1>"
   ]
  },
  {
   "cell_type": "code",
   "execution_count": 1,
   "metadata": {},
   "outputs": [],
   "source": [
    "import pandas as pd\n",
    "import numpy as np\n",
    "from sklearn.neighbors import KNeighborsClassifier\n",
    "from sklearn.model_selection import train_test_split\n",
    "from sklearn.metrics import confusion_matrix,accuracy_score\n",
    "from sklearn.preprocessing import scale"
   ]
  },
  {
   "cell_type": "markdown",
   "metadata": {},
   "source": [
    "* <b><h2>Reading DataFile</b></h2>"
   ]
  },
  {
   "cell_type": "code",
   "execution_count": 2,
   "metadata": {},
   "outputs": [],
   "source": [
    "df=pd.read_csv('DataFiles/cars_data.csv')"
   ]
  },
  {
   "cell_type": "markdown",
   "metadata": {},
   "source": [
    "* <b><h2>Displaying first 5 Rows</b></h2>"
   ]
  },
  {
   "cell_type": "code",
   "execution_count": 3,
   "metadata": {},
   "outputs": [
    {
     "data": {
      "text/html": [
       "<div>\n",
       "<style scoped>\n",
       "    .dataframe tbody tr th:only-of-type {\n",
       "        vertical-align: middle;\n",
       "    }\n",
       "\n",
       "    .dataframe tbody tr th {\n",
       "        vertical-align: top;\n",
       "    }\n",
       "\n",
       "    .dataframe thead th {\n",
       "        text-align: right;\n",
       "    }\n",
       "</style>\n",
       "<table border=\"1\" class=\"dataframe\">\n",
       "  <thead>\n",
       "    <tr style=\"text-align: right;\">\n",
       "      <th></th>\n",
       "      <th>symboling</th>\n",
       "      <th>normalized_losses</th>\n",
       "      <th>make</th>\n",
       "      <th>fuel_type</th>\n",
       "      <th>aspiration</th>\n",
       "      <th>num_doors</th>\n",
       "      <th>body_style</th>\n",
       "      <th>drive_wheels</th>\n",
       "      <th>engine_location</th>\n",
       "      <th>wheel_base</th>\n",
       "      <th>...</th>\n",
       "      <th>engine_size</th>\n",
       "      <th>fuel_system</th>\n",
       "      <th>bore</th>\n",
       "      <th>stroke</th>\n",
       "      <th>compression_ratio</th>\n",
       "      <th>horsepower</th>\n",
       "      <th>peak_rpm</th>\n",
       "      <th>city_mpg</th>\n",
       "      <th>highway_mpg</th>\n",
       "      <th>price</th>\n",
       "    </tr>\n",
       "  </thead>\n",
       "  <tbody>\n",
       "    <tr>\n",
       "      <th>0</th>\n",
       "      <td>3</td>\n",
       "      <td>?</td>\n",
       "      <td>alfa-romero</td>\n",
       "      <td>gas</td>\n",
       "      <td>std</td>\n",
       "      <td>two</td>\n",
       "      <td>convertible</td>\n",
       "      <td>rwd</td>\n",
       "      <td>front</td>\n",
       "      <td>88.6</td>\n",
       "      <td>...</td>\n",
       "      <td>130</td>\n",
       "      <td>mpfi</td>\n",
       "      <td>3.47</td>\n",
       "      <td>2.68</td>\n",
       "      <td>9.0</td>\n",
       "      <td>111</td>\n",
       "      <td>5000</td>\n",
       "      <td>21</td>\n",
       "      <td>27</td>\n",
       "      <td>13495</td>\n",
       "    </tr>\n",
       "    <tr>\n",
       "      <th>1</th>\n",
       "      <td>3</td>\n",
       "      <td>?</td>\n",
       "      <td>alfa-romero</td>\n",
       "      <td>gas</td>\n",
       "      <td>std</td>\n",
       "      <td>two</td>\n",
       "      <td>convertible</td>\n",
       "      <td>rwd</td>\n",
       "      <td>front</td>\n",
       "      <td>88.6</td>\n",
       "      <td>...</td>\n",
       "      <td>130</td>\n",
       "      <td>mpfi</td>\n",
       "      <td>3.47</td>\n",
       "      <td>2.68</td>\n",
       "      <td>9.0</td>\n",
       "      <td>111</td>\n",
       "      <td>5000</td>\n",
       "      <td>21</td>\n",
       "      <td>27</td>\n",
       "      <td>16500</td>\n",
       "    </tr>\n",
       "    <tr>\n",
       "      <th>2</th>\n",
       "      <td>1</td>\n",
       "      <td>?</td>\n",
       "      <td>alfa-romero</td>\n",
       "      <td>gas</td>\n",
       "      <td>std</td>\n",
       "      <td>two</td>\n",
       "      <td>hatchback</td>\n",
       "      <td>rwd</td>\n",
       "      <td>front</td>\n",
       "      <td>94.5</td>\n",
       "      <td>...</td>\n",
       "      <td>152</td>\n",
       "      <td>mpfi</td>\n",
       "      <td>2.68</td>\n",
       "      <td>3.47</td>\n",
       "      <td>9.0</td>\n",
       "      <td>154</td>\n",
       "      <td>5000</td>\n",
       "      <td>19</td>\n",
       "      <td>26</td>\n",
       "      <td>16500</td>\n",
       "    </tr>\n",
       "    <tr>\n",
       "      <th>3</th>\n",
       "      <td>2</td>\n",
       "      <td>164</td>\n",
       "      <td>audi</td>\n",
       "      <td>gas</td>\n",
       "      <td>std</td>\n",
       "      <td>four</td>\n",
       "      <td>sedan</td>\n",
       "      <td>fwd</td>\n",
       "      <td>front</td>\n",
       "      <td>99.8</td>\n",
       "      <td>...</td>\n",
       "      <td>109</td>\n",
       "      <td>mpfi</td>\n",
       "      <td>3.19</td>\n",
       "      <td>3.40</td>\n",
       "      <td>10.0</td>\n",
       "      <td>102</td>\n",
       "      <td>5500</td>\n",
       "      <td>24</td>\n",
       "      <td>30</td>\n",
       "      <td>13950</td>\n",
       "    </tr>\n",
       "    <tr>\n",
       "      <th>4</th>\n",
       "      <td>2</td>\n",
       "      <td>164</td>\n",
       "      <td>audi</td>\n",
       "      <td>gas</td>\n",
       "      <td>std</td>\n",
       "      <td>four</td>\n",
       "      <td>sedan</td>\n",
       "      <td>4wd</td>\n",
       "      <td>front</td>\n",
       "      <td>99.4</td>\n",
       "      <td>...</td>\n",
       "      <td>136</td>\n",
       "      <td>mpfi</td>\n",
       "      <td>3.19</td>\n",
       "      <td>3.40</td>\n",
       "      <td>8.0</td>\n",
       "      <td>115</td>\n",
       "      <td>5500</td>\n",
       "      <td>18</td>\n",
       "      <td>22</td>\n",
       "      <td>17450</td>\n",
       "    </tr>\n",
       "  </tbody>\n",
       "</table>\n",
       "<p>5 rows × 26 columns</p>\n",
       "</div>"
      ],
      "text/plain": [
       "   symboling normalized_losses         make fuel_type aspiration num_doors  \\\n",
       "0          3                 ?  alfa-romero       gas        std       two   \n",
       "1          3                 ?  alfa-romero       gas        std       two   \n",
       "2          1                 ?  alfa-romero       gas        std       two   \n",
       "3          2               164         audi       gas        std      four   \n",
       "4          2               164         audi       gas        std      four   \n",
       "\n",
       "    body_style drive_wheels engine_location  wheel_base  ...  engine_size  \\\n",
       "0  convertible          rwd           front        88.6  ...          130   \n",
       "1  convertible          rwd           front        88.6  ...          130   \n",
       "2    hatchback          rwd           front        94.5  ...          152   \n",
       "3        sedan          fwd           front        99.8  ...          109   \n",
       "4        sedan          4wd           front        99.4  ...          136   \n",
       "\n",
       "   fuel_system  bore  stroke compression_ratio horsepower  peak_rpm city_mpg  \\\n",
       "0         mpfi  3.47    2.68               9.0        111      5000       21   \n",
       "1         mpfi  3.47    2.68               9.0        111      5000       21   \n",
       "2         mpfi  2.68    3.47               9.0        154      5000       19   \n",
       "3         mpfi  3.19    3.40              10.0        102      5500       24   \n",
       "4         mpfi  3.19    3.40               8.0        115      5500       18   \n",
       "\n",
       "  highway_mpg  price  \n",
       "0          27  13495  \n",
       "1          27  16500  \n",
       "2          26  16500  \n",
       "3          30  13950  \n",
       "4          22  17450  \n",
       "\n",
       "[5 rows x 26 columns]"
      ]
     },
     "execution_count": 3,
     "metadata": {},
     "output_type": "execute_result"
    }
   ],
   "source": [
    "df.head()"
   ]
  },
  {
   "cell_type": "markdown",
   "metadata": {},
   "source": [
    "<h1><u><b>Data Cleaning</b></u></h1>"
   ]
  },
  {
   "cell_type": "markdown",
   "metadata": {},
   "source": [
    "* <b><h2>Replacing '?' values with 'Nan' in 'normalized_losses'</b></h2>"
   ]
  },
  {
   "cell_type": "code",
   "execution_count": 4,
   "metadata": {},
   "outputs": [
    {
     "data": {
      "text/html": [
       "<div>\n",
       "<style scoped>\n",
       "    .dataframe tbody tr th:only-of-type {\n",
       "        vertical-align: middle;\n",
       "    }\n",
       "\n",
       "    .dataframe tbody tr th {\n",
       "        vertical-align: top;\n",
       "    }\n",
       "\n",
       "    .dataframe thead th {\n",
       "        text-align: right;\n",
       "    }\n",
       "</style>\n",
       "<table border=\"1\" class=\"dataframe\">\n",
       "  <thead>\n",
       "    <tr style=\"text-align: right;\">\n",
       "      <th></th>\n",
       "      <th>symboling</th>\n",
       "      <th>normalized_losses</th>\n",
       "      <th>make</th>\n",
       "      <th>fuel_type</th>\n",
       "      <th>aspiration</th>\n",
       "      <th>num_doors</th>\n",
       "      <th>body_style</th>\n",
       "      <th>drive_wheels</th>\n",
       "      <th>engine_location</th>\n",
       "      <th>wheel_base</th>\n",
       "      <th>...</th>\n",
       "      <th>engine_size</th>\n",
       "      <th>fuel_system</th>\n",
       "      <th>bore</th>\n",
       "      <th>stroke</th>\n",
       "      <th>compression_ratio</th>\n",
       "      <th>horsepower</th>\n",
       "      <th>peak_rpm</th>\n",
       "      <th>city_mpg</th>\n",
       "      <th>highway_mpg</th>\n",
       "      <th>price</th>\n",
       "    </tr>\n",
       "  </thead>\n",
       "  <tbody>\n",
       "    <tr>\n",
       "      <th>0</th>\n",
       "      <td>3</td>\n",
       "      <td>NaN</td>\n",
       "      <td>alfa-romero</td>\n",
       "      <td>gas</td>\n",
       "      <td>std</td>\n",
       "      <td>two</td>\n",
       "      <td>convertible</td>\n",
       "      <td>rwd</td>\n",
       "      <td>front</td>\n",
       "      <td>88.6</td>\n",
       "      <td>...</td>\n",
       "      <td>130</td>\n",
       "      <td>mpfi</td>\n",
       "      <td>3.47</td>\n",
       "      <td>2.68</td>\n",
       "      <td>9.0</td>\n",
       "      <td>111</td>\n",
       "      <td>5000</td>\n",
       "      <td>21</td>\n",
       "      <td>27</td>\n",
       "      <td>13495</td>\n",
       "    </tr>\n",
       "    <tr>\n",
       "      <th>1</th>\n",
       "      <td>3</td>\n",
       "      <td>NaN</td>\n",
       "      <td>alfa-romero</td>\n",
       "      <td>gas</td>\n",
       "      <td>std</td>\n",
       "      <td>two</td>\n",
       "      <td>convertible</td>\n",
       "      <td>rwd</td>\n",
       "      <td>front</td>\n",
       "      <td>88.6</td>\n",
       "      <td>...</td>\n",
       "      <td>130</td>\n",
       "      <td>mpfi</td>\n",
       "      <td>3.47</td>\n",
       "      <td>2.68</td>\n",
       "      <td>9.0</td>\n",
       "      <td>111</td>\n",
       "      <td>5000</td>\n",
       "      <td>21</td>\n",
       "      <td>27</td>\n",
       "      <td>16500</td>\n",
       "    </tr>\n",
       "    <tr>\n",
       "      <th>2</th>\n",
       "      <td>1</td>\n",
       "      <td>NaN</td>\n",
       "      <td>alfa-romero</td>\n",
       "      <td>gas</td>\n",
       "      <td>std</td>\n",
       "      <td>two</td>\n",
       "      <td>hatchback</td>\n",
       "      <td>rwd</td>\n",
       "      <td>front</td>\n",
       "      <td>94.5</td>\n",
       "      <td>...</td>\n",
       "      <td>152</td>\n",
       "      <td>mpfi</td>\n",
       "      <td>2.68</td>\n",
       "      <td>3.47</td>\n",
       "      <td>9.0</td>\n",
       "      <td>154</td>\n",
       "      <td>5000</td>\n",
       "      <td>19</td>\n",
       "      <td>26</td>\n",
       "      <td>16500</td>\n",
       "    </tr>\n",
       "    <tr>\n",
       "      <th>3</th>\n",
       "      <td>2</td>\n",
       "      <td>164</td>\n",
       "      <td>audi</td>\n",
       "      <td>gas</td>\n",
       "      <td>std</td>\n",
       "      <td>four</td>\n",
       "      <td>sedan</td>\n",
       "      <td>fwd</td>\n",
       "      <td>front</td>\n",
       "      <td>99.8</td>\n",
       "      <td>...</td>\n",
       "      <td>109</td>\n",
       "      <td>mpfi</td>\n",
       "      <td>3.19</td>\n",
       "      <td>3.40</td>\n",
       "      <td>10.0</td>\n",
       "      <td>102</td>\n",
       "      <td>5500</td>\n",
       "      <td>24</td>\n",
       "      <td>30</td>\n",
       "      <td>13950</td>\n",
       "    </tr>\n",
       "    <tr>\n",
       "      <th>4</th>\n",
       "      <td>2</td>\n",
       "      <td>164</td>\n",
       "      <td>audi</td>\n",
       "      <td>gas</td>\n",
       "      <td>std</td>\n",
       "      <td>four</td>\n",
       "      <td>sedan</td>\n",
       "      <td>4wd</td>\n",
       "      <td>front</td>\n",
       "      <td>99.4</td>\n",
       "      <td>...</td>\n",
       "      <td>136</td>\n",
       "      <td>mpfi</td>\n",
       "      <td>3.19</td>\n",
       "      <td>3.40</td>\n",
       "      <td>8.0</td>\n",
       "      <td>115</td>\n",
       "      <td>5500</td>\n",
       "      <td>18</td>\n",
       "      <td>22</td>\n",
       "      <td>17450</td>\n",
       "    </tr>\n",
       "  </tbody>\n",
       "</table>\n",
       "<p>5 rows × 26 columns</p>\n",
       "</div>"
      ],
      "text/plain": [
       "   symboling normalized_losses         make fuel_type aspiration num_doors  \\\n",
       "0          3               NaN  alfa-romero       gas        std       two   \n",
       "1          3               NaN  alfa-romero       gas        std       two   \n",
       "2          1               NaN  alfa-romero       gas        std       two   \n",
       "3          2               164         audi       gas        std      four   \n",
       "4          2               164         audi       gas        std      four   \n",
       "\n",
       "    body_style drive_wheels engine_location  wheel_base  ...  engine_size  \\\n",
       "0  convertible          rwd           front        88.6  ...          130   \n",
       "1  convertible          rwd           front        88.6  ...          130   \n",
       "2    hatchback          rwd           front        94.5  ...          152   \n",
       "3        sedan          fwd           front        99.8  ...          109   \n",
       "4        sedan          4wd           front        99.4  ...          136   \n",
       "\n",
       "   fuel_system  bore  stroke compression_ratio horsepower  peak_rpm city_mpg  \\\n",
       "0         mpfi  3.47    2.68               9.0        111      5000       21   \n",
       "1         mpfi  3.47    2.68               9.0        111      5000       21   \n",
       "2         mpfi  2.68    3.47               9.0        154      5000       19   \n",
       "3         mpfi  3.19    3.40              10.0        102      5500       24   \n",
       "4         mpfi  3.19    3.40               8.0        115      5500       18   \n",
       "\n",
       "  highway_mpg  price  \n",
       "0          27  13495  \n",
       "1          27  16500  \n",
       "2          26  16500  \n",
       "3          30  13950  \n",
       "4          22  17450  \n",
       "\n",
       "[5 rows x 26 columns]"
      ]
     },
     "execution_count": 4,
     "metadata": {},
     "output_type": "execute_result"
    }
   ],
   "source": [
    "clean_data=df.replace('?',np.nan)\n",
    "clean_data.head()"
   ]
  },
  {
   "cell_type": "markdown",
   "metadata": {},
   "source": [
    "* <b><h2>Filling Nan values with 0</b></h2>"
   ]
  },
  {
   "cell_type": "code",
   "execution_count": 5,
   "metadata": {},
   "outputs": [
    {
     "data": {
      "text/html": [
       "<div>\n",
       "<style scoped>\n",
       "    .dataframe tbody tr th:only-of-type {\n",
       "        vertical-align: middle;\n",
       "    }\n",
       "\n",
       "    .dataframe tbody tr th {\n",
       "        vertical-align: top;\n",
       "    }\n",
       "\n",
       "    .dataframe thead th {\n",
       "        text-align: right;\n",
       "    }\n",
       "</style>\n",
       "<table border=\"1\" class=\"dataframe\">\n",
       "  <thead>\n",
       "    <tr style=\"text-align: right;\">\n",
       "      <th></th>\n",
       "      <th>symboling</th>\n",
       "      <th>normalized_losses</th>\n",
       "      <th>make</th>\n",
       "      <th>fuel_type</th>\n",
       "      <th>aspiration</th>\n",
       "      <th>num_doors</th>\n",
       "      <th>body_style</th>\n",
       "      <th>drive_wheels</th>\n",
       "      <th>engine_location</th>\n",
       "      <th>wheel_base</th>\n",
       "      <th>...</th>\n",
       "      <th>engine_size</th>\n",
       "      <th>fuel_system</th>\n",
       "      <th>bore</th>\n",
       "      <th>stroke</th>\n",
       "      <th>compression_ratio</th>\n",
       "      <th>horsepower</th>\n",
       "      <th>peak_rpm</th>\n",
       "      <th>city_mpg</th>\n",
       "      <th>highway_mpg</th>\n",
       "      <th>price</th>\n",
       "    </tr>\n",
       "  </thead>\n",
       "  <tbody>\n",
       "    <tr>\n",
       "      <th>0</th>\n",
       "      <td>3</td>\n",
       "      <td>0</td>\n",
       "      <td>alfa-romero</td>\n",
       "      <td>gas</td>\n",
       "      <td>std</td>\n",
       "      <td>two</td>\n",
       "      <td>convertible</td>\n",
       "      <td>rwd</td>\n",
       "      <td>front</td>\n",
       "      <td>88.6</td>\n",
       "      <td>...</td>\n",
       "      <td>130</td>\n",
       "      <td>mpfi</td>\n",
       "      <td>3.47</td>\n",
       "      <td>2.68</td>\n",
       "      <td>9.0</td>\n",
       "      <td>111</td>\n",
       "      <td>5000</td>\n",
       "      <td>21</td>\n",
       "      <td>27</td>\n",
       "      <td>13495</td>\n",
       "    </tr>\n",
       "    <tr>\n",
       "      <th>1</th>\n",
       "      <td>3</td>\n",
       "      <td>0</td>\n",
       "      <td>alfa-romero</td>\n",
       "      <td>gas</td>\n",
       "      <td>std</td>\n",
       "      <td>two</td>\n",
       "      <td>convertible</td>\n",
       "      <td>rwd</td>\n",
       "      <td>front</td>\n",
       "      <td>88.6</td>\n",
       "      <td>...</td>\n",
       "      <td>130</td>\n",
       "      <td>mpfi</td>\n",
       "      <td>3.47</td>\n",
       "      <td>2.68</td>\n",
       "      <td>9.0</td>\n",
       "      <td>111</td>\n",
       "      <td>5000</td>\n",
       "      <td>21</td>\n",
       "      <td>27</td>\n",
       "      <td>16500</td>\n",
       "    </tr>\n",
       "    <tr>\n",
       "      <th>2</th>\n",
       "      <td>1</td>\n",
       "      <td>0</td>\n",
       "      <td>alfa-romero</td>\n",
       "      <td>gas</td>\n",
       "      <td>std</td>\n",
       "      <td>two</td>\n",
       "      <td>hatchback</td>\n",
       "      <td>rwd</td>\n",
       "      <td>front</td>\n",
       "      <td>94.5</td>\n",
       "      <td>...</td>\n",
       "      <td>152</td>\n",
       "      <td>mpfi</td>\n",
       "      <td>2.68</td>\n",
       "      <td>3.47</td>\n",
       "      <td>9.0</td>\n",
       "      <td>154</td>\n",
       "      <td>5000</td>\n",
       "      <td>19</td>\n",
       "      <td>26</td>\n",
       "      <td>16500</td>\n",
       "    </tr>\n",
       "    <tr>\n",
       "      <th>3</th>\n",
       "      <td>2</td>\n",
       "      <td>164</td>\n",
       "      <td>audi</td>\n",
       "      <td>gas</td>\n",
       "      <td>std</td>\n",
       "      <td>four</td>\n",
       "      <td>sedan</td>\n",
       "      <td>fwd</td>\n",
       "      <td>front</td>\n",
       "      <td>99.8</td>\n",
       "      <td>...</td>\n",
       "      <td>109</td>\n",
       "      <td>mpfi</td>\n",
       "      <td>3.19</td>\n",
       "      <td>3.40</td>\n",
       "      <td>10.0</td>\n",
       "      <td>102</td>\n",
       "      <td>5500</td>\n",
       "      <td>24</td>\n",
       "      <td>30</td>\n",
       "      <td>13950</td>\n",
       "    </tr>\n",
       "    <tr>\n",
       "      <th>4</th>\n",
       "      <td>2</td>\n",
       "      <td>164</td>\n",
       "      <td>audi</td>\n",
       "      <td>gas</td>\n",
       "      <td>std</td>\n",
       "      <td>four</td>\n",
       "      <td>sedan</td>\n",
       "      <td>4wd</td>\n",
       "      <td>front</td>\n",
       "      <td>99.4</td>\n",
       "      <td>...</td>\n",
       "      <td>136</td>\n",
       "      <td>mpfi</td>\n",
       "      <td>3.19</td>\n",
       "      <td>3.40</td>\n",
       "      <td>8.0</td>\n",
       "      <td>115</td>\n",
       "      <td>5500</td>\n",
       "      <td>18</td>\n",
       "      <td>22</td>\n",
       "      <td>17450</td>\n",
       "    </tr>\n",
       "  </tbody>\n",
       "</table>\n",
       "<p>5 rows × 26 columns</p>\n",
       "</div>"
      ],
      "text/plain": [
       "   symboling normalized_losses         make fuel_type aspiration num_doors  \\\n",
       "0          3                 0  alfa-romero       gas        std       two   \n",
       "1          3                 0  alfa-romero       gas        std       two   \n",
       "2          1                 0  alfa-romero       gas        std       two   \n",
       "3          2               164         audi       gas        std      four   \n",
       "4          2               164         audi       gas        std      four   \n",
       "\n",
       "    body_style drive_wheels engine_location  wheel_base  ...  engine_size  \\\n",
       "0  convertible          rwd           front        88.6  ...          130   \n",
       "1  convertible          rwd           front        88.6  ...          130   \n",
       "2    hatchback          rwd           front        94.5  ...          152   \n",
       "3        sedan          fwd           front        99.8  ...          109   \n",
       "4        sedan          4wd           front        99.4  ...          136   \n",
       "\n",
       "   fuel_system  bore  stroke compression_ratio horsepower  peak_rpm city_mpg  \\\n",
       "0         mpfi  3.47    2.68               9.0        111      5000       21   \n",
       "1         mpfi  3.47    2.68               9.0        111      5000       21   \n",
       "2         mpfi  2.68    3.47               9.0        154      5000       19   \n",
       "3         mpfi  3.19    3.40              10.0        102      5500       24   \n",
       "4         mpfi  3.19    3.40               8.0        115      5500       18   \n",
       "\n",
       "  highway_mpg  price  \n",
       "0          27  13495  \n",
       "1          27  16500  \n",
       "2          26  16500  \n",
       "3          30  13950  \n",
       "4          22  17450  \n",
       "\n",
       "[5 rows x 26 columns]"
      ]
     },
     "execution_count": 5,
     "metadata": {},
     "output_type": "execute_result"
    }
   ],
   "source": [
    "clean_data=clean_data.fillna(0)\n",
    "clean_data.head()"
   ]
  },
  {
   "cell_type": "markdown",
   "metadata": {},
   "source": [
    "* <b><h2>Converting 'normalized_losses' to integer type</b></h2>"
   ]
  },
  {
   "cell_type": "code",
   "execution_count": 6,
   "metadata": {},
   "outputs": [],
   "source": [
    "clean_data[\"normalized_losses\"]=pd.to_numeric(clean_data[\"normalized_losses\"])"
   ]
  },
  {
   "cell_type": "code",
   "execution_count": 7,
   "metadata": {},
   "outputs": [
    {
     "data": {
      "text/plain": [
       "numpy.int64"
      ]
     },
     "execution_count": 7,
     "metadata": {},
     "output_type": "execute_result"
    }
   ],
   "source": [
    "type(clean_data.loc[0][1])"
   ]
  },
  {
   "cell_type": "markdown",
   "metadata": {},
   "source": [
    " * <b><h2>Verifying if the column's mean is diplayed or not</b></h2>"
   ]
  },
  {
   "cell_type": "code",
   "execution_count": 8,
   "metadata": {},
   "outputs": [
    {
     "data": {
      "text/plain": [
       "symboling               0.752941\n",
       "normalized_losses      98.027451\n",
       "wheel_base             99.013725\n",
       "length                174.563529\n",
       "width                  65.925490\n",
       "height                 53.850196\n",
       "curb_weight          2560.513725\n",
       "engine_size           126.313725\n",
       "compression_ratio      10.357333\n",
       "city_mpg               25.376471\n",
       "highway_mpg            30.886275\n",
       "dtype: float64"
      ]
     },
     "execution_count": 8,
     "metadata": {},
     "output_type": "execute_result"
    }
   ],
   "source": [
    "clean_data.mean()"
   ]
  },
  {
   "cell_type": "markdown",
   "metadata": {},
   "source": [
    "* <b><h2>Replacing missing values with mean of that Column</b></h2>"
   ]
  },
  {
   "cell_type": "code",
   "execution_count": 9,
   "metadata": {},
   "outputs": [
    {
     "data": {
      "text/html": [
       "<div>\n",
       "<style scoped>\n",
       "    .dataframe tbody tr th:only-of-type {\n",
       "        vertical-align: middle;\n",
       "    }\n",
       "\n",
       "    .dataframe tbody tr th {\n",
       "        vertical-align: top;\n",
       "    }\n",
       "\n",
       "    .dataframe thead th {\n",
       "        text-align: right;\n",
       "    }\n",
       "</style>\n",
       "<table border=\"1\" class=\"dataframe\">\n",
       "  <thead>\n",
       "    <tr style=\"text-align: right;\">\n",
       "      <th></th>\n",
       "      <th>symboling</th>\n",
       "      <th>normalized_losses</th>\n",
       "      <th>make</th>\n",
       "      <th>fuel_type</th>\n",
       "      <th>aspiration</th>\n",
       "      <th>num_doors</th>\n",
       "      <th>body_style</th>\n",
       "      <th>drive_wheels</th>\n",
       "      <th>engine_location</th>\n",
       "      <th>wheel_base</th>\n",
       "      <th>...</th>\n",
       "      <th>engine_size</th>\n",
       "      <th>fuel_system</th>\n",
       "      <th>bore</th>\n",
       "      <th>stroke</th>\n",
       "      <th>compression_ratio</th>\n",
       "      <th>horsepower</th>\n",
       "      <th>peak_rpm</th>\n",
       "      <th>city_mpg</th>\n",
       "      <th>highway_mpg</th>\n",
       "      <th>price</th>\n",
       "    </tr>\n",
       "  </thead>\n",
       "  <tbody>\n",
       "    <tr>\n",
       "      <th>0</th>\n",
       "      <td>3.0</td>\n",
       "      <td>98.027451</td>\n",
       "      <td>alfa-romero</td>\n",
       "      <td>gas</td>\n",
       "      <td>std</td>\n",
       "      <td>two</td>\n",
       "      <td>convertible</td>\n",
       "      <td>rwd</td>\n",
       "      <td>front</td>\n",
       "      <td>88.6</td>\n",
       "      <td>...</td>\n",
       "      <td>130</td>\n",
       "      <td>mpfi</td>\n",
       "      <td>3.47</td>\n",
       "      <td>2.68</td>\n",
       "      <td>9.0</td>\n",
       "      <td>111</td>\n",
       "      <td>5000</td>\n",
       "      <td>21</td>\n",
       "      <td>27</td>\n",
       "      <td>13495</td>\n",
       "    </tr>\n",
       "    <tr>\n",
       "      <th>1</th>\n",
       "      <td>3.0</td>\n",
       "      <td>98.027451</td>\n",
       "      <td>alfa-romero</td>\n",
       "      <td>gas</td>\n",
       "      <td>std</td>\n",
       "      <td>two</td>\n",
       "      <td>convertible</td>\n",
       "      <td>rwd</td>\n",
       "      <td>front</td>\n",
       "      <td>88.6</td>\n",
       "      <td>...</td>\n",
       "      <td>130</td>\n",
       "      <td>mpfi</td>\n",
       "      <td>3.47</td>\n",
       "      <td>2.68</td>\n",
       "      <td>9.0</td>\n",
       "      <td>111</td>\n",
       "      <td>5000</td>\n",
       "      <td>21</td>\n",
       "      <td>27</td>\n",
       "      <td>16500</td>\n",
       "    </tr>\n",
       "    <tr>\n",
       "      <th>2</th>\n",
       "      <td>1.0</td>\n",
       "      <td>98.027451</td>\n",
       "      <td>alfa-romero</td>\n",
       "      <td>gas</td>\n",
       "      <td>std</td>\n",
       "      <td>two</td>\n",
       "      <td>hatchback</td>\n",
       "      <td>rwd</td>\n",
       "      <td>front</td>\n",
       "      <td>94.5</td>\n",
       "      <td>...</td>\n",
       "      <td>152</td>\n",
       "      <td>mpfi</td>\n",
       "      <td>2.68</td>\n",
       "      <td>3.47</td>\n",
       "      <td>9.0</td>\n",
       "      <td>154</td>\n",
       "      <td>5000</td>\n",
       "      <td>19</td>\n",
       "      <td>26</td>\n",
       "      <td>16500</td>\n",
       "    </tr>\n",
       "    <tr>\n",
       "      <th>3</th>\n",
       "      <td>2.0</td>\n",
       "      <td>164.000000</td>\n",
       "      <td>audi</td>\n",
       "      <td>gas</td>\n",
       "      <td>std</td>\n",
       "      <td>four</td>\n",
       "      <td>sedan</td>\n",
       "      <td>fwd</td>\n",
       "      <td>front</td>\n",
       "      <td>99.8</td>\n",
       "      <td>...</td>\n",
       "      <td>109</td>\n",
       "      <td>mpfi</td>\n",
       "      <td>3.19</td>\n",
       "      <td>3.40</td>\n",
       "      <td>10.0</td>\n",
       "      <td>102</td>\n",
       "      <td>5500</td>\n",
       "      <td>24</td>\n",
       "      <td>30</td>\n",
       "      <td>13950</td>\n",
       "    </tr>\n",
       "    <tr>\n",
       "      <th>4</th>\n",
       "      <td>2.0</td>\n",
       "      <td>164.000000</td>\n",
       "      <td>audi</td>\n",
       "      <td>gas</td>\n",
       "      <td>std</td>\n",
       "      <td>four</td>\n",
       "      <td>sedan</td>\n",
       "      <td>4wd</td>\n",
       "      <td>front</td>\n",
       "      <td>99.4</td>\n",
       "      <td>...</td>\n",
       "      <td>136</td>\n",
       "      <td>mpfi</td>\n",
       "      <td>3.19</td>\n",
       "      <td>3.40</td>\n",
       "      <td>8.0</td>\n",
       "      <td>115</td>\n",
       "      <td>5500</td>\n",
       "      <td>18</td>\n",
       "      <td>22</td>\n",
       "      <td>17450</td>\n",
       "    </tr>\n",
       "  </tbody>\n",
       "</table>\n",
       "<p>5 rows × 26 columns</p>\n",
       "</div>"
      ],
      "text/plain": [
       "   symboling  normalized_losses         make fuel_type aspiration num_doors  \\\n",
       "0        3.0          98.027451  alfa-romero       gas        std       two   \n",
       "1        3.0          98.027451  alfa-romero       gas        std       two   \n",
       "2        1.0          98.027451  alfa-romero       gas        std       two   \n",
       "3        2.0         164.000000         audi       gas        std      four   \n",
       "4        2.0         164.000000         audi       gas        std      four   \n",
       "\n",
       "    body_style drive_wheels engine_location  wheel_base  ...  engine_size  \\\n",
       "0  convertible          rwd           front        88.6  ...          130   \n",
       "1  convertible          rwd           front        88.6  ...          130   \n",
       "2    hatchback          rwd           front        94.5  ...          152   \n",
       "3        sedan          fwd           front        99.8  ...          109   \n",
       "4        sedan          4wd           front        99.4  ...          136   \n",
       "\n",
       "   fuel_system  bore  stroke compression_ratio horsepower  peak_rpm city_mpg  \\\n",
       "0         mpfi  3.47    2.68               9.0        111      5000       21   \n",
       "1         mpfi  3.47    2.68               9.0        111      5000       21   \n",
       "2         mpfi  2.68    3.47               9.0        154      5000       19   \n",
       "3         mpfi  3.19    3.40              10.0        102      5500       24   \n",
       "4         mpfi  3.19    3.40               8.0        115      5500       18   \n",
       "\n",
       "  highway_mpg  price  \n",
       "0          27  13495  \n",
       "1          27  16500  \n",
       "2          26  16500  \n",
       "3          30  13950  \n",
       "4          22  17450  \n",
       "\n",
       "[5 rows x 26 columns]"
      ]
     },
     "execution_count": 9,
     "metadata": {},
     "output_type": "execute_result"
    }
   ],
   "source": [
    "clean_data=clean_data.replace(0,clean_data.mean())\n",
    "clean_data.head()"
   ]
  },
  {
   "cell_type": "markdown",
   "metadata": {},
   "source": [
    "* <b><h2>Assigning Dependent and Target Variables</b></h2>"
   ]
  },
  {
   "cell_type": "code",
   "execution_count": 10,
   "metadata": {},
   "outputs": [
    {
     "data": {
      "text/plain": [
       "pandas.core.frame.DataFrame"
      ]
     },
     "execution_count": 10,
     "metadata": {},
     "output_type": "execute_result"
    }
   ],
   "source": [
    "x=clean_data.loc[:,['normalized_losses','engine_size','horsepower','city_mpg','highway_mpg']]\n",
    "y=clean_data.loc[:,'price']\n",
    "type(x)"
   ]
  },
  {
   "cell_type": "code",
   "execution_count": 11,
   "metadata": {},
   "outputs": [
    {
     "name": "stderr",
     "output_type": "stream",
     "text": [
      "C:\\Users\\arsha\\Anaconda3\\lib\\site-packages\\ipykernel_launcher.py:1: DataConversionWarning: Data with input dtype int64, float64, object were all converted to float64 by the scale function.\n",
      "  \"\"\"Entry point for launching an IPython kernel.\n"
     ]
    },
    {
     "data": {
      "text/plain": [
       "array([[-0.51542401,  0.09520273,  0.21070599, -0.69124048, -0.57571304],\n",
       "       [-0.51542401,  0.09520273,  0.21070599, -0.69124048, -0.57571304],\n",
       "       [-0.51542401,  0.66338076,  1.31036864, -1.00712995, -0.72385313],\n",
       "       ...,\n",
       "       [-0.60366623,  1.2057325 ,  0.79889764, -1.16507469, -1.16827339],\n",
       "       [-0.60366623,  0.48259684,  0.08283824,  0.09848319, -0.57571304],\n",
       "       [-0.60366623,  0.37929174,  0.28742664, -1.00712995, -0.87199322]])"
      ]
     },
     "execution_count": 11,
     "metadata": {},
     "output_type": "execute_result"
    }
   ],
   "source": [
    "x=scale(x)\n",
    "x"
   ]
  },
  {
   "cell_type": "code",
   "execution_count": 12,
   "metadata": {},
   "outputs": [
    {
     "ename": "NameError",
     "evalue": "name 'x_train' is not defined",
     "output_type": "error",
     "traceback": [
      "\u001b[1;31m---------------------------------------------------------------------------\u001b[0m",
      "\u001b[1;31mNameError\u001b[0m                                 Traceback (most recent call last)",
      "\u001b[1;32m<ipython-input-12-94067eace87a>\u001b[0m in \u001b[0;36m<module>\u001b[1;34m\u001b[0m\n\u001b[0;32m      1\u001b[0m \u001b[0mx\u001b[0m\u001b[1;33m=\u001b[0m\u001b[0mpd\u001b[0m\u001b[1;33m.\u001b[0m\u001b[0mDataFrame\u001b[0m\u001b[1;33m(\u001b[0m\u001b[0mx\u001b[0m\u001b[1;33m)\u001b[0m\u001b[1;33m\u001b[0m\u001b[1;33m\u001b[0m\u001b[0m\n\u001b[0;32m      2\u001b[0m \u001b[0mx\u001b[0m\u001b[1;33m.\u001b[0m\u001b[0mhead\u001b[0m\u001b[1;33m(\u001b[0m\u001b[1;33m)\u001b[0m\u001b[1;33m\u001b[0m\u001b[1;33m\u001b[0m\u001b[0m\n\u001b[1;32m----> 3\u001b[1;33m \u001b[0mx_train\u001b[0m\u001b[1;33m[\u001b[0m\u001b[1;36m0\u001b[0m\u001b[1;33m]\u001b[0m\u001b[1;33m.\u001b[0m\u001b[0mdtypes\u001b[0m\u001b[1;33m\u001b[0m\u001b[1;33m\u001b[0m\u001b[0m\n\u001b[0m",
      "\u001b[1;31mNameError\u001b[0m: name 'x_train' is not defined"
     ]
    }
   ],
   "source": [
    "x=pd.DataFrame(x)\n",
    "x.head()\n",
    "x_train[0].dtypes"
   ]
  },
  {
   "cell_type": "code",
   "execution_count": 13,
   "metadata": {},
   "outputs": [],
   "source": [
    "x_train, x_test, y_train, y_test = train_test_split(x,y, test_size=0.2, random_state = 1)"
   ]
  },
  {
   "cell_type": "code",
   "execution_count": 14,
   "metadata": {},
   "outputs": [
    {
     "data": {
      "text/plain": [
       "3279     9989\n",
       "2793    12290\n",
       "2027    13845\n",
       "17      36880\n",
       "2928     8921\n",
       "Name: price, dtype: object"
      ]
     },
     "execution_count": 14,
     "metadata": {},
     "output_type": "execute_result"
    }
   ],
   "source": [
    "y_test.head()\n",
    "#y_test.shape"
   ]
  },
  {
   "cell_type": "markdown",
   "metadata": {},
   "source": [
    "* <b><h2>To check if the value is NULL</b></h2>"
   ]
  },
  {
   "cell_type": "code",
   "execution_count": 15,
   "metadata": {},
   "outputs": [
    {
     "data": {
      "text/plain": [
       "0"
      ]
     },
     "execution_count": 15,
     "metadata": {},
     "output_type": "execute_result"
    }
   ],
   "source": [
    "clean_data.normalized_losses.isnull().sum()"
   ]
  },
  {
   "cell_type": "code",
   "execution_count": 16,
   "metadata": {},
   "outputs": [
    {
     "data": {
      "text/plain": [
       "0"
      ]
     },
     "execution_count": 16,
     "metadata": {},
     "output_type": "execute_result"
    }
   ],
   "source": [
    "clean_data.engine_size.isnull().sum()"
   ]
  },
  {
   "cell_type": "code",
   "execution_count": 17,
   "metadata": {},
   "outputs": [
    {
     "data": {
      "text/plain": [
       "0"
      ]
     },
     "execution_count": 17,
     "metadata": {},
     "output_type": "execute_result"
    }
   ],
   "source": [
    "clean_data.horsepower.isnull().sum()"
   ]
  },
  {
   "cell_type": "code",
   "execution_count": 18,
   "metadata": {},
   "outputs": [
    {
     "data": {
      "text/plain": [
       "0"
      ]
     },
     "execution_count": 18,
     "metadata": {},
     "output_type": "execute_result"
    }
   ],
   "source": [
    "clean_data.city_mpg.isnull().sum()"
   ]
  },
  {
   "cell_type": "code",
   "execution_count": 19,
   "metadata": {},
   "outputs": [
    {
     "data": {
      "text/plain": [
       "0"
      ]
     },
     "execution_count": 19,
     "metadata": {},
     "output_type": "execute_result"
    }
   ],
   "source": [
    "clean_data.price.isnull().sum()"
   ]
  },
  {
   "cell_type": "code",
   "execution_count": 20,
   "metadata": {},
   "outputs": [],
   "source": [
    "#y.astype(int)"
   ]
  },
  {
   "cell_type": "code",
   "execution_count": 21,
   "metadata": {},
   "outputs": [
    {
     "data": {
      "text/plain": [
       "dtype('O')"
      ]
     },
     "execution_count": 21,
     "metadata": {},
     "output_type": "execute_result"
    }
   ],
   "source": [
    "#x.astype(int)\n",
    "type(y_train)\n",
    "y_train.dtypes\n",
    "y_train.dtypes"
   ]
  },
  {
   "cell_type": "markdown",
   "metadata": {},
   "source": [
    "* <b><h2>Fitting the testing data and training data</b></h2>"
   ]
  },
  {
   "cell_type": "code",
   "execution_count": 22,
   "metadata": {},
   "outputs": [
    {
     "data": {
      "text/plain": [
       "KNeighborsClassifier(algorithm='auto', leaf_size=30, metric='euclidean',\n",
       "           metric_params=None, n_jobs=None, n_neighbors=10, p=2,\n",
       "           weights='uniform')"
      ]
     },
     "execution_count": 22,
     "metadata": {},
     "output_type": "execute_result"
    }
   ],
   "source": [
    "model_knn=KNeighborsClassifier(n_neighbors=10,metric='euclidean')\n",
    "model_knn.fit(x_train.astype(int),y_train.astype(int))"
   ]
  },
  {
   "cell_type": "code",
   "execution_count": 23,
   "metadata": {},
   "outputs": [
    {
     "data": {
      "text/plain": [
       "KNeighborsClassifier(algorithm='auto', leaf_size=30, metric='euclidean',\n",
       "           metric_params=None, n_jobs=None, n_neighbors=10, p=2,\n",
       "           weights='uniform')"
      ]
     },
     "execution_count": 23,
     "metadata": {},
     "output_type": "execute_result"
    }
   ],
   "source": [
    "model_knn"
   ]
  },
  {
   "cell_type": "markdown",
   "metadata": {},
   "source": [
    "* <b><h2>Predicting the prices based on test values</b></h2>"
   ]
  },
  {
   "cell_type": "code",
   "execution_count": 24,
   "metadata": {},
   "outputs": [
    {
     "data": {
      "text/plain": [
       "array([ 8238,  8948,  5399, 36880, 11248, 11248,  7129, 18150, 17199,\n",
       "        9988, 11549,  5151, 11549,  5399, 16695,  7129,  7295,  5399,\n",
       "       18399, 36880, 18950,  9538, 11900,  7129,  5399,  5399, 11248,\n",
       "       13499, 16925,  5399, 17710, 22625, 16695, 16695,  6918, 16695,\n",
       "        8058,  5399, 15998, 16695,  5399,  5399,  5399, 36880, 13499,\n",
       "        6938,  8238,  5389, 18950, 41315,  5399,  8238, 13499,  5399,\n",
       "       11900,  9538,  7295,  7295, 11248,  5348,  5389, 13499,  5399,\n",
       "        5399,  8558,  5348,  5399,  5399,  5399,  9988,  5389, 13499,\n",
       "        5389,  5399,  5348,  9980,  5399,  8238,  8238, 13499,  8948,\n",
       "        5399, 22625,  5399, 11900, 13499,  5399,  5399,  5399,  8238,\n",
       "        8238,  7295,  9538, 16925,  5389,  9538,  7898,  9988,  9895,\n",
       "        8238,  8058,  8238,  6918,  7295, 13499,  6938, 18950,  7775,\n",
       "        7788, 16925, 21485, 11549,  7295,  5399,  8948, 13645,  8558,\n",
       "        9988, 41315,  5399, 11900,  5399,  7295,  7775,  5399,  9988,\n",
       "        7898,  5399, 13499, 18150,  5399,  5348, 11549,  6918,  8558,\n",
       "        6575,  5151,  7129,  8238,  8238, 18950, 13295,  7129,  5151,\n",
       "        5399, 41315, 15998, 11694,  7898,  7295,  7775,  8238, 11549,\n",
       "        9895,  5389,  5399, 18950,  5399,  7129,  5389,  8058, 13499,\n",
       "       40960,  9980, 18950, 11694, 13499, 13499,  9988,  7129,  9988,\n",
       "       11248, 17710,  5399,  9538, 18950, 13645,  7788,  7898, 18399,\n",
       "        9988, 13499, 40960,  5399,  9988,  7295,  7898, 16695,  7898,\n",
       "        5399,  5399, 11248,  5399,  5399, 15998, 17199, 16695,  8558,\n",
       "        5399,  7898, 41315, 15998,  7129, 41315,  5399, 13499, 17199,\n",
       "        5399,  5389,  5399,  8948,  9980,  5348, 11694,  8238, 40960,\n",
       "        5399, 13295,  7788, 13499, 16925,  7788, 13499,  9988,  9538,\n",
       "       15750,  7295, 15750, 40960,  5151,  7129, 19699, 36880,  9988,\n",
       "       11694, 21485,  9538, 35550, 13499, 15998,  8238,  5389,  7788,\n",
       "        9988, 40960,  7295,  7898, 13295,  7295,  5389,  5399, 36880,\n",
       "        5399, 11694,  7775,  5399,  5151,  8238, 18950, 18950, 15998,\n",
       "        5348,  5399, 15998,  6938, 15998, 40960,  5399, 15998, 16695,\n",
       "        7788,  5399, 16695, 15998,  5399, 15750, 13499,  5399, 19699,\n",
       "        7129,  6575,  8195, 18950, 11694,  8238,  8058,  8558,  9988,\n",
       "       13499,  5399,  8558,  7898, 16695,  5348,  9988, 18150,  5348,\n",
       "        9538,  7898,  7295,  5399, 15750, 15750,  5399, 13499, 16695,\n",
       "        8558,  5399,  5389,  5389,  5399, 16695,  9538, 41315,  8238,\n",
       "       40960, 18150, 13499,  5399,  7788, 11900, 11248, 36880, 11694,\n",
       "        9988,  8058, 18950, 13499,  7788,  7898, 16695, 16695, 18150,\n",
       "       11900,  7898, 11248,  7898,  7129, 15750,  5399,  5399, 13499,\n",
       "        5399,  8238, 11900, 13645,  8558,  8238,  6575,  7788, 11248,\n",
       "        5399,  5399,  5399,  5389,  5399,  7295, 16925, 13499, 16695,\n",
       "        7788, 11549, 36000, 18150,  5399, 32250,  7788, 35550, 16925,\n",
       "        8195,  7129,  7898, 13645,  5399, 16695,  8058,  7775,  8948,\n",
       "        5399,  8238, 41315,  9538, 13499,  7898,  8558,  5399,  7295,\n",
       "       13295, 13295, 13499, 15998, 15998,  9538, 41315, 11900,  5151,\n",
       "        7129,  8238,  5399,  5389,  7295, 11900, 13499, 18150,  5399,\n",
       "        5348, 40960,  8948, 16695,  7295,  5348, 18950, 16925, 11248,\n",
       "        9988, 11549,  7788,  8238, 16925, 16695, 13499, 11549,  5399,\n",
       "        9895, 13499,  9538,  9538,  7295, 15998,  9988,  7788,  5399,\n",
       "       11248,  6938, 17199,  8558, 11248,  5399, 17199, 16925,  9895,\n",
       "        5399,  9988,  6938,  8238,  5399, 18150,  8238,  8948,  7295,\n",
       "       13499, 36880,  9895, 18150,  5348,  5399, 40960, 35550, 16695,\n",
       "        9988, 11900,  8238, 11900,  5348, 16695,  5399,  7898, 16925,\n",
       "        5399, 16695, 16925,  5348,  5389, 40960, 22625,  5399, 11900,\n",
       "        9988,  5399, 13499,  8558,  8558,  5399,  5399, 41315,  7295,\n",
       "        5151, 16695, 16925,  7295, 35550,  5399,  5399,  8058, 15998,\n",
       "       16925, 18399, 41315, 18950,  7295,  7775, 13499,  9988, 11900,\n",
       "       13499,  7129,  5151,  9980,  8558, 35550,  7898,  5389,  9988,\n",
       "       13295, 40960,  7129,  5399,  9988,  9988,  6938, 32250,  5399,\n",
       "       32250,  5399, 13499,  7898, 15998,  6575,  8238,  5399, 13499,\n",
       "        5151,  7295, 11248, 16925,  9988, 13499, 18150, 13295,  8778,\n",
       "        7898,  7129, 18950,  7295, 18399,  9988,  8238,  5389,  9895,\n",
       "        5399,  9988,  5399, 40960,  5399, 11248,  5399,  5399,  7129,\n",
       "        7295, 15998, 16925,  9538,     0, 18150, 41315,  8238, 13645,\n",
       "       16695,  7898, 13645,  9988, 19699,  5399, 13499,  9538,  5399,\n",
       "        5399,  6575,  5399, 13645,  6575,  5151,  9538,  5399, 17199,\n",
       "       13499,  9980, 17199,  7129,  5399, 16925,  7788,  7295,  7295,\n",
       "       16695, 11900, 11248, 41315,  5399,  9988, 18950,  5151,  5399,\n",
       "       35550,  5399,  9988,  8558,  8238, 13645,  5399,  8948, 13645,\n",
       "       13499,  9988, 18950, 16925,  5399, 18950,  9538,  5399, 11900,\n",
       "       11694, 17710,  7129,  6918,  9980, 15998,  5389,     0,  9988,\n",
       "        5399, 11248,  6575, 13499, 13499, 15998,  7295, 11694,  9538,\n",
       "       13499,  5151, 17710,  5399,  5399,  5399, 16925,  9988,  5151,\n",
       "        7898,  8558, 36880, 22625, 40960,  8058, 11900,  5399,  5399,\n",
       "       16925, 18150, 11549,  7898,  7898,  5399, 13499,  7898,  5389,\n",
       "        7295,  5399,  9988,  7129, 16695,  5399, 17199,  5399,  6918,\n",
       "        7295,  7129,  9988,  5348, 13499,  5399, 11248,  5399,  8948,\n",
       "       41315,  9988,  8058,  5389,  5399,  5399, 41315,  5399, 18950,\n",
       "        5399,  8238, 36880, 18950, 15750,  7788,  8238,  7129,  7129,\n",
       "       15750,  7295, 16695, 32250, 18150,  9980,  5399, 15750,  5399,\n",
       "        7129, 13645,  8948, 36880, 11900, 11900,  8238,  9988,  7788,\n",
       "        8238, 13499, 13499, 11900,  5389,  5399,  7129,  8558, 17710,\n",
       "       16925, 11900,  5399,  9538,  5399,  5399,  5399, 13499,  5399,\n",
       "       11900,  5151, 16925,  7129, 36000, 13499,  5399,  5348,  5151,\n",
       "       11549, 16695,  5399,  6575,  5348,  5399, 16695,  5151,  7898,\n",
       "           0, 19699,  5399,  5399,  6575, 13499, 40960, 13645,  9988])"
      ]
     },
     "execution_count": 24,
     "metadata": {},
     "output_type": "execute_result"
    }
   ],
   "source": [
    "y_predict=model_knn.predict(x_test)\n",
    "len(y_predict)\n",
    "y_predict"
   ]
  },
  {
   "cell_type": "code",
   "execution_count": 25,
   "metadata": {},
   "outputs": [
    {
     "data": {
      "text/plain": [
       "11860.891503267974"
      ]
     },
     "execution_count": 25,
     "metadata": {},
     "output_type": "execute_result"
    }
   ],
   "source": [
    "np.mean(y_predict)"
   ]
  },
  {
   "cell_type": "code",
   "execution_count": 33,
   "metadata": {},
   "outputs": [
    {
     "data": {
      "text/plain": [
       "13338.929411764706"
      ]
     },
     "execution_count": 33,
     "metadata": {},
     "output_type": "execute_result"
    }
   ],
   "source": [
    "np.mean(y_test.astype(float))"
   ]
  },
  {
   "cell_type": "code",
   "execution_count": 35,
   "metadata": {},
   "outputs": [
    {
     "data": {
      "text/plain": [
       "3279     9989\n",
       "2793    12290\n",
       "2027    13845\n",
       "17      36880\n",
       "2928     8921\n",
       "Name: price, dtype: object"
      ]
     },
     "execution_count": 35,
     "metadata": {},
     "output_type": "execute_result"
    }
   ],
   "source": [
    "y_test.head()"
   ]
  },
  {
   "cell_type": "code",
   "execution_count": 36,
   "metadata": {},
   "outputs": [
    {
     "data": {
      "text/plain": [
       "3279    False\n",
       "2793    False\n",
       "2027    False\n",
       "17      False\n",
       "2928    False\n",
       "1316    False\n",
       "1847    False\n",
       "372     False\n",
       "2053    False\n",
       "3245    False\n",
       "2489    False\n",
       "1548    False\n",
       "1519    False\n",
       "2582    False\n",
       "701     False\n",
       "1673    False\n",
       "3560    False\n",
       "632     False\n",
       "2146    False\n",
       "1035    False\n",
       "2751    False\n",
       "589     False\n",
       "1281    False\n",
       "1884    False\n",
       "393     False\n",
       "3105    False\n",
       "551     False\n",
       "2618    False\n",
       "420     False\n",
       "3727    False\n",
       "        ...  \n",
       "1903    False\n",
       "945     False\n",
       "2158    False\n",
       "1791    False\n",
       "2070    False\n",
       "471     False\n",
       "1163    False\n",
       "1579    False\n",
       "1359    False\n",
       "2575    False\n",
       "2871    False\n",
       "415     False\n",
       "2031    False\n",
       "2105    False\n",
       "1064    False\n",
       "2008    False\n",
       "2963    False\n",
       "544     False\n",
       "1020    False\n",
       "1038    False\n",
       "2434    False\n",
       "1659     True\n",
       "1125    False\n",
       "1624    False\n",
       "3624    False\n",
       "223     False\n",
       "613     False\n",
       "3134    False\n",
       "1586    False\n",
       "1206    False\n",
       "Name: price, Length: 765, dtype: bool"
      ]
     },
     "execution_count": 36,
     "metadata": {},
     "output_type": "execute_result"
    }
   ],
   "source": [
    "(y_predict==y_test)"
   ]
  },
  {
   "cell_type": "code",
   "execution_count": null,
   "metadata": {},
   "outputs": [],
   "source": []
  },
  {
   "cell_type": "code",
   "execution_count": 29,
   "metadata": {},
   "outputs": [
    {
     "data": {
      "text/plain": [
       "3279     9989\n",
       "2793    12290\n",
       "2027    13845\n",
       "17      36880\n",
       "2928     8921\n",
       "1316    12945\n",
       "1847    10245\n",
       "372     18150\n",
       "2053    21105\n",
       "3245     8195\n",
       "2489    12940\n",
       "1548     5151\n",
       "1519    12940\n",
       "2582     5399\n",
       "701     13295\n",
       "1673     9960\n",
       "3560    13415\n",
       "632      7609\n",
       "2146    18399\n",
       "1035    30760\n",
       "2751    19045\n",
       "589      7689\n",
       "1281    17710\n",
       "1884     8949\n",
       "393      5118\n",
       "3105        0\n",
       "551     12945\n",
       "2618    28248\n",
       "420      9298\n",
       "3727     7198\n",
       "        ...  \n",
       "1903     5572\n",
       "945     15690\n",
       "2158     5572\n",
       "1791    17710\n",
       "2070     6479\n",
       "471      9538\n",
       "1163     9960\n",
       "1579    36000\n",
       "1359    14489\n",
       "2575     6692\n",
       "2871    18344\n",
       "415      7738\n",
       "2031    15985\n",
       "2105    18280\n",
       "1064        0\n",
       "2008     8948\n",
       "2963     7898\n",
       "544      7129\n",
       "1020    13495\n",
       "1038     5151\n",
       "2434     7053\n",
       "1659        0\n",
       "1125    19699\n",
       "1624     7299\n",
       "3624     7395\n",
       "223      8948\n",
       "613     13499\n",
       "3134    45400\n",
       "1586    11845\n",
       "1206     8495\n",
       "Name: price, Length: 765, dtype: object"
      ]
     },
     "execution_count": 29,
     "metadata": {},
     "output_type": "execute_result"
    }
   ],
   "source": [
    "y_test"
   ]
  },
  {
   "cell_type": "code",
   "execution_count": 30,
   "metadata": {},
   "outputs": [
    {
     "data": {
      "text/plain": [
       "array([ 8238,  8948,  5399, 36880, 11248, 11248,  7129, 18150, 17199,\n",
       "        9988, 11549,  5151, 11549,  5399, 16695,  7129,  7295,  5399,\n",
       "       18399, 36880, 18950,  9538, 11900,  7129,  5399,  5399, 11248,\n",
       "       13499, 16925,  5399, 17710, 22625, 16695, 16695,  6918, 16695,\n",
       "        8058,  5399, 15998, 16695,  5399,  5399,  5399, 36880, 13499,\n",
       "        6938,  8238,  5389, 18950, 41315,  5399,  8238, 13499,  5399,\n",
       "       11900,  9538,  7295,  7295, 11248,  5348,  5389, 13499,  5399,\n",
       "        5399,  8558,  5348,  5399,  5399,  5399,  9988,  5389, 13499,\n",
       "        5389,  5399,  5348,  9980,  5399,  8238,  8238, 13499,  8948,\n",
       "        5399, 22625,  5399, 11900, 13499,  5399,  5399,  5399,  8238,\n",
       "        8238,  7295,  9538, 16925,  5389,  9538,  7898,  9988,  9895,\n",
       "        8238,  8058,  8238,  6918,  7295, 13499,  6938, 18950,  7775,\n",
       "        7788, 16925, 21485, 11549,  7295,  5399,  8948, 13645,  8558,\n",
       "        9988, 41315,  5399, 11900,  5399,  7295,  7775,  5399,  9988,\n",
       "        7898,  5399, 13499, 18150,  5399,  5348, 11549,  6918,  8558,\n",
       "        6575,  5151,  7129,  8238,  8238, 18950, 13295,  7129,  5151,\n",
       "        5399, 41315, 15998, 11694,  7898,  7295,  7775,  8238, 11549,\n",
       "        9895,  5389,  5399, 18950,  5399,  7129,  5389,  8058, 13499,\n",
       "       40960,  9980, 18950, 11694, 13499, 13499,  9988,  7129,  9988,\n",
       "       11248, 17710,  5399,  9538, 18950, 13645,  7788,  7898, 18399,\n",
       "        9988, 13499, 40960,  5399,  9988,  7295,  7898, 16695,  7898,\n",
       "        5399,  5399, 11248,  5399,  5399, 15998, 17199, 16695,  8558,\n",
       "        5399,  7898, 41315, 15998,  7129, 41315,  5399, 13499, 17199,\n",
       "        5399,  5389,  5399,  8948,  9980,  5348, 11694,  8238, 40960,\n",
       "        5399, 13295,  7788, 13499, 16925,  7788, 13499,  9988,  9538,\n",
       "       15750,  7295, 15750, 40960,  5151,  7129, 19699, 36880,  9988,\n",
       "       11694, 21485,  9538, 35550, 13499, 15998,  8238,  5389,  7788,\n",
       "        9988, 40960,  7295,  7898, 13295,  7295,  5389,  5399, 36880,\n",
       "        5399, 11694,  7775,  5399,  5151,  8238, 18950, 18950, 15998,\n",
       "        5348,  5399, 15998,  6938, 15998, 40960,  5399, 15998, 16695,\n",
       "        7788,  5399, 16695, 15998,  5399, 15750, 13499,  5399, 19699,\n",
       "        7129,  6575,  8195, 18950, 11694,  8238,  8058,  8558,  9988,\n",
       "       13499,  5399,  8558,  7898, 16695,  5348,  9988, 18150,  5348,\n",
       "        9538,  7898,  7295,  5399, 15750, 15750,  5399, 13499, 16695,\n",
       "        8558,  5399,  5389,  5389,  5399, 16695,  9538, 41315,  8238,\n",
       "       40960, 18150, 13499,  5399,  7788, 11900, 11248, 36880, 11694,\n",
       "        9988,  8058, 18950, 13499,  7788,  7898, 16695, 16695, 18150,\n",
       "       11900,  7898, 11248,  7898,  7129, 15750,  5399,  5399, 13499,\n",
       "        5399,  8238, 11900, 13645,  8558,  8238,  6575,  7788, 11248,\n",
       "        5399,  5399,  5399,  5389,  5399,  7295, 16925, 13499, 16695,\n",
       "        7788, 11549, 36000, 18150,  5399, 32250,  7788, 35550, 16925,\n",
       "        8195,  7129,  7898, 13645,  5399, 16695,  8058,  7775,  8948,\n",
       "        5399,  8238, 41315,  9538, 13499,  7898,  8558,  5399,  7295,\n",
       "       13295, 13295, 13499, 15998, 15998,  9538, 41315, 11900,  5151,\n",
       "        7129,  8238,  5399,  5389,  7295, 11900, 13499, 18150,  5399,\n",
       "        5348, 40960,  8948, 16695,  7295,  5348, 18950, 16925, 11248,\n",
       "        9988, 11549,  7788,  8238, 16925, 16695, 13499, 11549,  5399,\n",
       "        9895, 13499,  9538,  9538,  7295, 15998,  9988,  7788,  5399,\n",
       "       11248,  6938, 17199,  8558, 11248,  5399, 17199, 16925,  9895,\n",
       "        5399,  9988,  6938,  8238,  5399, 18150,  8238,  8948,  7295,\n",
       "       13499, 36880,  9895, 18150,  5348,  5399, 40960, 35550, 16695,\n",
       "        9988, 11900,  8238, 11900,  5348, 16695,  5399,  7898, 16925,\n",
       "        5399, 16695, 16925,  5348,  5389, 40960, 22625,  5399, 11900,\n",
       "        9988,  5399, 13499,  8558,  8558,  5399,  5399, 41315,  7295,\n",
       "        5151, 16695, 16925,  7295, 35550,  5399,  5399,  8058, 15998,\n",
       "       16925, 18399, 41315, 18950,  7295,  7775, 13499,  9988, 11900,\n",
       "       13499,  7129,  5151,  9980,  8558, 35550,  7898,  5389,  9988,\n",
       "       13295, 40960,  7129,  5399,  9988,  9988,  6938, 32250,  5399,\n",
       "       32250,  5399, 13499,  7898, 15998,  6575,  8238,  5399, 13499,\n",
       "        5151,  7295, 11248, 16925,  9988, 13499, 18150, 13295,  8778,\n",
       "        7898,  7129, 18950,  7295, 18399,  9988,  8238,  5389,  9895,\n",
       "        5399,  9988,  5399, 40960,  5399, 11248,  5399,  5399,  7129,\n",
       "        7295, 15998, 16925,  9538,     0, 18150, 41315,  8238, 13645,\n",
       "       16695,  7898, 13645,  9988, 19699,  5399, 13499,  9538,  5399,\n",
       "        5399,  6575,  5399, 13645,  6575,  5151,  9538,  5399, 17199,\n",
       "       13499,  9980, 17199,  7129,  5399, 16925,  7788,  7295,  7295,\n",
       "       16695, 11900, 11248, 41315,  5399,  9988, 18950,  5151,  5399,\n",
       "       35550,  5399,  9988,  8558,  8238, 13645,  5399,  8948, 13645,\n",
       "       13499,  9988, 18950, 16925,  5399, 18950,  9538,  5399, 11900,\n",
       "       11694, 17710,  7129,  6918,  9980, 15998,  5389,     0,  9988,\n",
       "        5399, 11248,  6575, 13499, 13499, 15998,  7295, 11694,  9538,\n",
       "       13499,  5151, 17710,  5399,  5399,  5399, 16925,  9988,  5151,\n",
       "        7898,  8558, 36880, 22625, 40960,  8058, 11900,  5399,  5399,\n",
       "       16925, 18150, 11549,  7898,  7898,  5399, 13499,  7898,  5389,\n",
       "        7295,  5399,  9988,  7129, 16695,  5399, 17199,  5399,  6918,\n",
       "        7295,  7129,  9988,  5348, 13499,  5399, 11248,  5399,  8948,\n",
       "       41315,  9988,  8058,  5389,  5399,  5399, 41315,  5399, 18950,\n",
       "        5399,  8238, 36880, 18950, 15750,  7788,  8238,  7129,  7129,\n",
       "       15750,  7295, 16695, 32250, 18150,  9980,  5399, 15750,  5399,\n",
       "        7129, 13645,  8948, 36880, 11900, 11900,  8238,  9988,  7788,\n",
       "        8238, 13499, 13499, 11900,  5389,  5399,  7129,  8558, 17710,\n",
       "       16925, 11900,  5399,  9538,  5399,  5399,  5399, 13499,  5399,\n",
       "       11900,  5151, 16925,  7129, 36000, 13499,  5399,  5348,  5151,\n",
       "       11549, 16695,  5399,  6575,  5348,  5399, 16695,  5151,  7898,\n",
       "           0, 19699,  5399,  5399,  6575, 13499, 40960, 13645,  9988])"
      ]
     },
     "execution_count": 30,
     "metadata": {},
     "output_type": "execute_result"
    }
   ],
   "source": [
    "y_predict"
   ]
  },
  {
   "cell_type": "markdown",
   "metadata": {},
   "source": [
    "* <b><h2>Checking the accuracy score of the model</b></h2>"
   ]
  },
  {
   "cell_type": "code",
   "execution_count": 31,
   "metadata": {},
   "outputs": [
    {
     "data": {
      "text/plain": [
       "0.11764705882352941"
      ]
     },
     "execution_count": 31,
     "metadata": {},
     "output_type": "execute_result"
    }
   ],
   "source": [
    "y_as=y_test.astype(int)\n",
    "accuracy_score(y_predict,y_as)\n",
    "#y_as.dtypes"
   ]
  },
  {
   "cell_type": "code",
   "execution_count": null,
   "metadata": {},
   "outputs": [],
   "source": []
  },
  {
   "cell_type": "code",
   "execution_count": null,
   "metadata": {},
   "outputs": [],
   "source": []
  },
  {
   "cell_type": "code",
   "execution_count": 32,
   "metadata": {},
   "outputs": [
    {
     "data": {
      "text/plain": [
       "dtype('O')"
      ]
     },
     "execution_count": 32,
     "metadata": {},
     "output_type": "execute_result"
    }
   ],
   "source": [
    "y_test.dtypes"
   ]
  },
  {
   "cell_type": "code",
   "execution_count": null,
   "metadata": {},
   "outputs": [],
   "source": []
  }
 ],
 "metadata": {
  "kernelspec": {
   "display_name": "Python 3",
   "language": "python",
   "name": "python3"
  },
  "language_info": {
   "codemirror_mode": {
    "name": "ipython",
    "version": 3
   },
   "file_extension": ".py",
   "mimetype": "text/x-python",
   "name": "python",
   "nbconvert_exporter": "python",
   "pygments_lexer": "ipython3",
   "version": "3.7.3"
  }
 },
 "nbformat": 4,
 "nbformat_minor": 2
}
