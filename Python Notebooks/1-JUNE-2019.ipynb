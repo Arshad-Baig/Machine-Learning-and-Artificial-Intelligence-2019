{
 "cells": [
  {
   "cell_type": "markdown",
   "metadata": {},
   "source": [
    "## Artificial Intelligence and Machine Learning - Internship\n",
    "\n",
    "### Arshad\n",
    "### Day 8\n",
    "### Date : 1-JUNE-2019"
   ]
  },
  {
   "cell_type": "markdown",
   "metadata": {},
   "source": [
    "#### Day Outcomes:\n",
    "* Completed 1st problem given on 31st may"
   ]
  },
  {
   "cell_type": "markdown",
   "metadata": {},
   "source": [
    "### Problem 1\n",
    "\n",
    "#### Problem Statement:\n",
    "How many runs of  Dhoni  On 4/23/2008  Chennai Super Kings vs Mumbai Indians Match ( Use Oops concepts)\n",
    "Datasets: \n",
    "* Match.csv => Match details (match id , teams, location etc) \n",
    "* Player.csv => Player Details (player id, name,team name, etc)\n",
    "* Ball_By_Ball => Ball to ball details (match id , striker, runs, over id, ball id etc)"
   ]
  },
  {
   "cell_type": "code",
   "execution_count": 3,
   "metadata": {},
   "outputs": [
    {
     "data": {
      "text/plain": [
       "30"
      ]
     },
     "execution_count": 3,
     "metadata": {},
     "output_type": "execute_result"
    }
   ],
   "source": [
    "import pandas as pd\n",
    "class dhoni():    \n",
    "    def getMatchId():\n",
    "        df1=pd.read_csv('DataFiles/Cricket/Match.csv')\n",
    "        matchid=int(df1[df1['match_date']=='4/23/2008']['match_id'])\n",
    "        return matchid\n",
    "\n",
    "\n",
    "    def getPlayerId():\n",
    "        df2=pd.read_csv('DataFiles/Cricket/Player.csv')\n",
    "        playerid=int(df2[df2['Player_Name']=='MS Dhoni']['Player_Id'])\n",
    "        return playerid\n",
    "\n",
    "    def runs(self):\n",
    "        df3=pd.read_csv('DataFiles/Cricket/Ball_By_Ball.csv',usecols=['MatcH_id','Runs_Scored','Match_Date','Striker'])\n",
    "        matchid=dhoni.getMatchId()\n",
    "        playerid=dhoni.getPlayerId()\n",
    "        runs=0\n",
    "        for i in range(len(df3)):\n",
    "            if df3.MatcH_id[i]==matchid and df3.Striker[i]==playerid:\n",
    "                runs=runs+df3.Runs_Scored[i]\n",
    "        return runs\n",
    "object=dhoni()\n",
    "object.runs()"
   ]
  }
 ],
 "metadata": {
  "kernelspec": {
   "display_name": "Python 3",
   "language": "python",
   "name": "python3"
  },
  "language_info": {
   "codemirror_mode": {
    "name": "ipython",
    "version": 3
   },
   "file_extension": ".py",
   "mimetype": "text/x-python",
   "name": "python",
   "nbconvert_exporter": "python",
   "pygments_lexer": "ipython3",
   "version": "3.7.3"
  }
 },
 "nbformat": 4,
 "nbformat_minor": 2
}
